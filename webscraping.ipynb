{
 "cells": [
  {
   "cell_type": "markdown",
   "metadata": {},
   "source": [
    "<p style=\"text-align:center\">\n",
    "    <a href=\"https://skills.network\" target=\"_blank\">\n",
    "    <img src=\"https://cf-courses-data.s3.us.cloud-object-storage.appdomain.cloud/assets/logos/SN_web_lightmode.png\" width=\"200\" alt=\"Skills Network Logo\">\n",
    "    </a>\n",
    "</p>\n"
   ]
  },
  {
   "cell_type": "markdown",
   "metadata": {},
   "source": [
    "# **Space X  Falcon 9 First Stage Landing Prediction**\n"
   ]
  },
  {
   "cell_type": "markdown",
   "metadata": {},
   "source": [
    "## Web scraping Falcon 9 and Falcon Heavy Launches Records from Wikipedia\n"
   ]
  },
  {
   "cell_type": "markdown",
   "metadata": {},
   "source": [
    "Estimated time needed: **40** minutes\n"
   ]
  },
  {
   "cell_type": "markdown",
   "metadata": {},
   "source": [
    "In this lab, you will be performing web scraping to collect Falcon 9 historical launch records from a Wikipedia page titled `List of Falcon 9 and Falcon Heavy launches`\n",
    "\n",
    "https://en.wikipedia.org/wiki/List_of_Falcon_9_and_Falcon_Heavy_launches\n"
   ]
  },
  {
   "cell_type": "markdown",
   "metadata": {},
   "source": [
    "![](https://cf-courses-data.s3.us.cloud-object-storage.appdomain.cloud/IBM-DS0321EN-SkillsNetwork/labs/module_1_L2/images/Falcon9_rocket_family.svg)\n"
   ]
  },
  {
   "cell_type": "markdown",
   "metadata": {},
   "source": [
    "Falcon 9 first stage will land successfully\n"
   ]
  },
  {
   "cell_type": "markdown",
   "metadata": {},
   "source": [
    "![](https://cf-courses-data.s3.us.cloud-object-storage.appdomain.cloud/IBMDeveloperSkillsNetwork-DS0701EN-SkillsNetwork/api/Images/landing_1.gif)\n"
   ]
  },
  {
   "cell_type": "markdown",
   "metadata": {},
   "source": [
    "Several examples of an unsuccessful landing are shown here:\n"
   ]
  },
  {
   "cell_type": "markdown",
   "metadata": {},
   "source": [
    "![](https://cf-courses-data.s3.us.cloud-object-storage.appdomain.cloud/IBMDeveloperSkillsNetwork-DS0701EN-SkillsNetwork/api/Images/crash.gif)\n"
   ]
  },
  {
   "cell_type": "markdown",
   "metadata": {},
   "source": [
    "More specifically, the launch records are stored in a HTML table shown below:\n"
   ]
  },
  {
   "cell_type": "markdown",
   "metadata": {},
   "source": [
    "![](https://cf-courses-data.s3.us.cloud-object-storage.appdomain.cloud/IBM-DS0321EN-SkillsNetwork/labs/module_1_L2/images/falcon9-launches-wiki.png)\n"
   ]
  },
  {
   "cell_type": "markdown",
   "metadata": {},
   "source": [
    "  ## Objectives\n",
    "Web scrap Falcon 9 launch records with `BeautifulSoup`: \n",
    "- Extract a Falcon 9 launch records HTML table from Wikipedia\n",
    "- Parse the table and convert it into a Pandas data frame\n"
   ]
  },
  {
   "cell_type": "markdown",
   "metadata": {},
   "source": [
    "First let's import required packages for this lab\n"
   ]
  },
  {
   "cell_type": "code",
   "execution_count": 1,
   "metadata": {
    "tags": []
   },
   "outputs": [
    {
     "name": "stdout",
     "output_type": "stream",
     "text": [
      "Requirement already satisfied: beautifulsoup4 in /home/jupyterlab/conda/envs/python/lib/python3.7/site-packages (4.11.1)\n",
      "Requirement already satisfied: soupsieve>1.2 in /home/jupyterlab/conda/envs/python/lib/python3.7/site-packages (from beautifulsoup4) (2.3.2.post1)\n",
      "Requirement already satisfied: requests in /home/jupyterlab/conda/envs/python/lib/python3.7/site-packages (2.29.0)\n",
      "Requirement already satisfied: charset-normalizer<4,>=2 in /home/jupyterlab/conda/envs/python/lib/python3.7/site-packages (from requests) (3.1.0)\n",
      "Requirement already satisfied: idna<4,>=2.5 in /home/jupyterlab/conda/envs/python/lib/python3.7/site-packages (from requests) (3.4)\n",
      "Requirement already satisfied: urllib3<1.27,>=1.21.1 in /home/jupyterlab/conda/envs/python/lib/python3.7/site-packages (from requests) (1.26.15)\n",
      "Requirement already satisfied: certifi>=2017.4.17 in /home/jupyterlab/conda/envs/python/lib/python3.7/site-packages (from requests) (2023.5.7)\n"
     ]
    }
   ],
   "source": [
    "!pip3 install beautifulsoup4\n",
    "!pip3 install requests"
   ]
  },
  {
   "cell_type": "code",
   "execution_count": 2,
   "metadata": {
    "tags": []
   },
   "outputs": [],
   "source": [
    "import sys\n",
    "\n",
    "import requests\n",
    "from bs4 import BeautifulSoup\n",
    "import re\n",
    "import unicodedata\n",
    "import pandas as pd"
   ]
  },
  {
   "cell_type": "markdown",
   "metadata": {},
   "source": [
    "and we will provide some helper functions for you to process web scraped HTML table\n"
   ]
  },
  {
   "cell_type": "code",
   "execution_count": 3,
   "metadata": {
    "tags": []
   },
   "outputs": [],
   "source": [
    "def date_time(table_cells):\n",
    "    \"\"\"\n",
    "    This function returns the data and time from the HTML  table cell\n",
    "    Input: the  element of a table data cell extracts extra row\n",
    "    \"\"\"\n",
    "    return [data_time.strip() for data_time in list(table_cells.strings)][0:2]\n",
    "\n",
    "def booster_version(table_cells):\n",
    "    \"\"\"\n",
    "    This function returns the booster version from the HTML  table cell \n",
    "    Input: the  element of a table data cell extracts extra row\n",
    "    \"\"\"\n",
    "    out=''.join([booster_version for i,booster_version in enumerate( table_cells.strings) if i%2==0][0:-1])\n",
    "    return out\n",
    "\n",
    "def landing_status(table_cells):\n",
    "    \"\"\"\n",
    "    This function returns the landing status from the HTML table cell \n",
    "    Input: the  element of a table data cell extracts extra row\n",
    "    \"\"\"\n",
    "    out=[i for i in table_cells.strings][0]\n",
    "    return out\n",
    "\n",
    "\n",
    "def get_mass(table_cells):\n",
    "    mass=unicodedata.normalize(\"NFKD\", table_cells.text).strip()\n",
    "    if mass:\n",
    "        mass.find(\"kg\")\n",
    "        new_mass=mass[0:mass.find(\"kg\")+2]\n",
    "    else:\n",
    "        new_mass=0\n",
    "    return new_mass\n",
    "\n",
    "\n",
    "def extract_column_from_header(row):\n",
    "    \"\"\"\n",
    "    This function returns the landing status from the HTML table cell \n",
    "    Input: the  element of a table data cell extracts extra row\n",
    "    \"\"\"\n",
    "    if (row.br):\n",
    "        row.br.extract()\n",
    "    if row.a:\n",
    "        row.a.extract()\n",
    "    if row.sup:\n",
    "        row.sup.extract()\n",
    "        \n",
    "    colunm_name = ' '.join(row.contents)\n",
    "    \n",
    "    # Filter the digit and empty names\n",
    "    if not(colunm_name.strip().isdigit()):\n",
    "        colunm_name = colunm_name.strip()\n",
    "        return colunm_name    \n"
   ]
  },
  {
   "cell_type": "markdown",
   "metadata": {},
   "source": [
    "To keep the lab tasks consistent, you will be asked to scrape the data from a snapshot of the  `List of Falcon 9 and Falcon Heavy launches` Wikipage updated on\n",
    "`9th June 2021`\n"
   ]
  },
  {
   "cell_type": "code",
   "execution_count": 4,
   "metadata": {
    "tags": []
   },
   "outputs": [],
   "source": [
    "static_url = \"https://en.wikipedia.org/w/index.php?title=List_of_Falcon_9_and_Falcon_Heavy_launches&oldid=1027686922\""
   ]
  },
  {
   "cell_type": "markdown",
   "metadata": {},
   "source": [
    "Next, request the HTML page from the above URL and get a `response` object\n"
   ]
  },
  {
   "cell_type": "markdown",
   "metadata": {},
   "source": [
    "### TASK 1: Request the Falcon9 Launch Wiki page from its URL\n"
   ]
  },
  {
   "cell_type": "markdown",
   "metadata": {},
   "source": [
    "First, let's perform an HTTP GET method to request the Falcon9 Launch HTML page, as an HTTP response.\n"
   ]
  },
  {
   "cell_type": "code",
   "execution_count": 5,
   "metadata": {
    "tags": []
   },
   "outputs": [
    {
     "name": "stdout",
     "output_type": "stream",
     "text": [
      "Response Status Code: 200\n"
     ]
    }
   ],
   "source": [
    "# use requests.get() method with the provided static_url\n",
    "# assign the response to a object\n",
    "import requests\n",
    "\n",
    "# Provided static URL from the Wikipedia snapshot (dated 9th June 2021)\n",
    "static_url = \"https://en.wikipedia.org/w/index.php?title=List_of_Falcon_9_and_Falcon_Heavy_launches&oldid=1027686922\"\n",
    "\n",
    "# Perform HTTP GET request and assign response to an object\n",
    "response = requests.get(static_url)\n",
    "\n",
    "# Optional: Print status code to confirm success\n",
    "print(\"Response Status Code:\", response.status_code)  # Should print 200\n"
   ]
  },
  {
   "cell_type": "markdown",
   "metadata": {},
   "source": [
    "Create a `BeautifulSoup` object from the HTML `response`\n"
   ]
  },
  {
   "cell_type": "code",
   "execution_count": 6,
   "metadata": {
    "tags": []
   },
   "outputs": [
    {
     "name": "stdout",
     "output_type": "stream",
     "text": [
      "List of Falcon 9 and Falcon Heavy launches - Wikipedia\n"
     ]
    }
   ],
   "source": [
    "# Use BeautifulSoup() to create a BeautifulSoup object from a response text content\n",
    "from bs4 import BeautifulSoup\n",
    "\n",
    "# Create a BeautifulSoup object using the response text and HTML parser\n",
    "soup = BeautifulSoup(response.text, 'html.parser')\n",
    "\n",
    "# Optional: Print the title to confirm it loaded correctly\n",
    "print(soup.title.string)\n"
   ]
  },
  {
   "cell_type": "markdown",
   "metadata": {},
   "source": [
    "Print the page title to verify if the `BeautifulSoup` object was created properly \n"
   ]
  },
  {
   "cell_type": "code",
   "execution_count": 7,
   "metadata": {
    "tags": []
   },
   "outputs": [
    {
     "name": "stdout",
     "output_type": "stream",
     "text": [
      "List of Falcon 9 and Falcon Heavy launches - Wikipedia\n"
     ]
    }
   ],
   "source": [
    "# Use soup.title attribute\n",
    "# Print the title of the page\n",
    "print(soup.title.string)"
   ]
  },
  {
   "cell_type": "markdown",
   "metadata": {},
   "source": [
    "### TASK 2: Extract all column/variable names from the HTML table header\n"
   ]
  },
  {
   "cell_type": "markdown",
   "metadata": {},
   "source": [
    "Next, we want to collect all relevant column names from the HTML table header\n"
   ]
  },
  {
   "cell_type": "markdown",
   "metadata": {},
   "source": [
    "Let's try to find all tables on the wiki page first. If you need to refresh your memory about `BeautifulSoup`, please check the external reference link towards the end of this lab\n"
   ]
  },
  {
   "cell_type": "code",
   "execution_count": 8,
   "metadata": {
    "tags": []
   },
   "outputs": [
    {
     "name": "stdout",
     "output_type": "stream",
     "text": [
      "Number of tables found: 25\n",
      "<table class=\"col-begin\" role=\"presentation\">\n",
      " <tbody>\n",
      "  <tr>\n",
      "   <td class=\"col-break\">\n",
      "    <div class=\"mw-heading mw-heading3\">\n",
      "     <h3 id=\"Rocket_configurations\">\n",
      "      Rocket configurations\n",
      "     </h3>\n",
      "    </div>\n",
      "    <div class=\"chart noresize\" style=\"padding-top:10px;margin-top:1em;max-width:420px;\">\n",
      "     <div style=\"position:relative;min-height:320px;min-width:420px;max-width:420px;\">\n",
      "      <div style=\"float:right;position:relative;min-height:240px;min-width:320px;max-width:320px;border-left:1px black solid;border-bottom:1px black solid;\">\n",
      "       <div style=\"position:absolute;left:3px;top:224px;height:15px;min-width:18px;max-width:18px;background-color:LightSteelBlue;-webkit-print-color-adjust:exact;border:1px solid LightSteelBlue;border-bottom:none;overflow:hidden;\" title=\"[[Falcon 9 v1.0]]: 2\">\n",
      "       </div>\n",
      "       <div style=\"position:absolute;left:55px;top:224px;height:15px;min-width:18px;max-width:18px;background-color:LightSteelBlue;-webkit-print-color-adjust:exact;border:1px solid LightSteelBlue;border-bottom:none;overflow:hidden;\" title=\"[[Falcon 9 v1.0]]: 2\">\n",
      "       </div>\n",
      "       <div style=\"position:absolute;left:81px;top:232px;height:7px;min-width:18px;max-width:18px;background-color:LightSteelBlue;-webkit-print-color-adjust:exact;border:1px solid LightSteelBlue;border-bottom:none;overflow:hidden;\" title=\"[[Falcon 9 v1.0]]: 1\">\n",
      "       </div>\n",
      "       <div style=\"position:absolute;left:81px;top:216px;height:15px;min-width:18px;max-width:18px;background-color:SteelBlue;-webkit-print-color-adjust:exact;border:1px solid SteelBlue;border-bottom:none;overflow:hidden;\" title=\"[[Falcon 9 v1.1]]: 2\">\n",
      "       </div>\n",
      "       <div style=\"position:absolute;left:107px;top:192px;height:47px;min-width:18px;max-width:18px;background-color:SteelBlue;-webkit-print-color-adjust:exact;border:1px solid SteelBlue;border-bottom:none;overflow:hidden;\" title=\"[[Falcon 9 v1.1]]: 6\">\n",
      "       </div>\n",
      "       <div style=\"position:absolute;left:133px;top:192px;height:47px;min-width:18px;max-width:18px;background-color:SteelBlue;-webkit-print-color-adjust:exact;border:1px solid SteelBlue;border-bottom:none;overflow:hidden;\" title=\"[[Falcon 9 v1.1]]: 6\">\n",
      "       </div>\n",
      "       <div style=\"position:absolute;left:159px;top:232px;height:7px;min-width:18px;max-width:18px;background-color:SteelBlue;-webkit-print-color-adjust:exact;border:1px solid SteelBlue;border-bottom:none;overflow:hidden;\" title=\"[[Falcon 9 v1.1]]: 1\">\n",
      "       </div>\n",
      "       <div style=\"position:absolute;left:133px;top:184px;height:7px;min-width:18px;max-width:18px;background-color:MediumBlue;-webkit-print-color-adjust:exact;border:1px solid MediumBlue;border-bottom:none;overflow:hidden;\" title=\"[[Falcon 9 Full Thrust]]: 1\">\n",
      "       </div>\n",
      "       <div style=\"position:absolute;left:159px;top:176px;height:55px;min-width:18px;max-width:18px;background-color:MediumBlue;-webkit-print-color-adjust:exact;border:1px solid MediumBlue;border-bottom:none;overflow:hidden;\" title=\"[[Falcon 9 Full Thrust]]: 7\">\n",
      "       </div>\n",
      "       <div style=\"position:absolute;left:185px;top:136px;height:103px;min-width:18px;max-width:18px;background-color:MediumBlue;-webkit-print-color-adjust:exact;border:1px solid MediumBlue;border-bottom:none;overflow:hidden;\" title=\"[[Falcon 9 Full Thrust]]: 13\">\n",
      "       </div>\n",
      "       <div style=\"position:absolute;left:211px;top:216px;height:23px;min-width:18px;max-width:18px;background-color:MediumBlue;-webkit-print-color-adjust:exact;border:1px solid MediumBlue;border-bottom:none;overflow:hidden;\" title=\"[[Falcon 9 Full Thrust]]: 3\">\n",
      "       </div>\n",
      "       <div style=\"position:absolute;left:185px;top:96px;height:39px;min-width:18px;max-width:18px;background-color:CornflowerBlue;-webkit-print-color-adjust:exact;border:1px solid CornflowerBlue;border-bottom:none;overflow:hidden;\" title=\"Falcon 9 FT (reused): 5\">\n",
      "       </div>\n",
      "       <div style=\"position:absolute;left:211px;top:160px;height:55px;min-width:18px;max-width:18px;background-color:CornflowerBlue;-webkit-print-color-adjust:exact;border:1px solid CornflowerBlue;border-bottom:none;overflow:hidden;\" title=\"Falcon 9 FT (reused): 7\">\n",
      "       </div>\n",
      "       <div style=\"position:absolute;left:211px;top:112px;height:47px;min-width:18px;max-width:18px;background-color:Teal;-webkit-print-color-adjust:exact;border:1px solid Teal;border-bottom:none;overflow:hidden;\" title=\"[[Falcon 9 Block 5]]: 6\">\n",
      "       </div>\n",
      "       <div style=\"position:absolute;left:237px;top:216px;height:23px;min-width:18px;max-width:18px;background-color:Teal;-webkit-print-color-adjust:exact;border:1px solid Teal;border-bottom:none;overflow:hidden;\" title=\"[[Falcon 9 Block 5]]: 3\">\n",
      "       </div>\n",
      "       <div style=\"position:absolute;left:263px;top:200px;height:39px;min-width:18px;max-width:18px;background-color:Teal;-webkit-print-color-adjust:exact;border:1px solid Teal;border-bottom:none;overflow:hidden;\" title=\"[[Falcon 9 Block 5]]: 5\">\n",
      "       </div>\n",
      "       <div style=\"position:absolute;left:289px;top:232px;height:7px;min-width:18px;max-width:18px;background-color:Teal;-webkit-print-color-adjust:exact;border:1px solid Teal;border-bottom:none;overflow:hidden;\" title=\"[[Falcon 9 Block 5]]: 1\">\n",
      "       </div>\n",
      "       <div style=\"position:absolute;left:211px;top:80px;height:31px;min-width:18px;max-width:18px;background-color:LightSeaGreen;-webkit-print-color-adjust:exact;border:1px solid LightSeaGreen;border-bottom:none;overflow:hidden;\" title=\"Falcon 9 B5 (reused): 4\">\n",
      "       </div>\n",
      "       <div style=\"position:absolute;left:237px;top:152px;height:63px;min-width:18px;max-width:18px;background-color:LightSeaGreen;-webkit-print-color-adjust:exact;border:1px solid LightSeaGreen;border-bottom:none;overflow:hidden;\" title=\"Falcon 9 B5 (reused): 8\">\n",
      "       </div>\n",
      "       <div style=\"position:absolute;left:263px;top:32px;height:167px;min-width:18px;max-width:18px;background-color:LightSeaGreen;-webkit-print-color-adjust:exact;border:1px solid LightSeaGreen;border-bottom:none;overflow:hidden;\" title=\"Falcon 9 B5 (reused): 21\">\n",
      "       </div>\n",
      "       <div style=\"position:absolute;left:289px;top:96px;height:135px;min-width:18px;max-width:18px;background-color:LightSeaGreen;-webkit-print-color-adjust:exact;border:1px solid LightSeaGreen;border-bottom:none;overflow:hidden;\" title=\"Falcon 9 B5 (reused): 17\">\n",
      "       </div>\n",
      "       <div style=\"position:absolute;left:211px;top:72px;height:7px;min-width:18px;max-width:18px;background-color:Gold;-webkit-print-color-adjust:exact;border:1px solid Gold;border-bottom:none;overflow:hidden;\" title=\"[[Falcon Heavy]]: 1\">\n",
      "       </div>\n",
      "       <div style=\"position:absolute;left:237px;top:136px;height:15px;min-width:18px;max-width:18px;background-color:Gold;-webkit-print-color-adjust:exact;border:1px solid Gold;border-bottom:none;overflow:hidden;\" title=\"[[Falcon Heavy]]: 2\">\n",
      "       </div>\n",
      "      </div>\n",
      "      <div style=\"position:absolute;height:240px;min-width:100px;max-width:100px;\">\n",
      "       <div style=\"position:absolute;height=20px;text-align:right;vertical-align:middle;width:90px;top:190px;padding:0 2px\">\n",
      "        5\n",
      "       </div>\n",
      "       <div style=\"position:absolute;height=1px;min-width:5px;top:200px;left:96px;border:1px solid black;\">\n",
      "       </div>\n",
      "       <div style=\"position:absolute;height=20px;text-align:right;vertical-align:middle;width:90px;top:150px;padding:0 2px\">\n",
      "        10\n",
      "       </div>\n",
      "       <div style=\"position:absolute;height=1px;min-width:5px;top:160px;left:96px;border:1px solid black;\">\n",
      "       </div>\n",
      "       <div style=\"position:absolute;height=20px;text-align:right;vertical-align:middle;width:90px;top:110px;padding:0 2px\">\n",
      "        15\n",
      "       </div>\n",
      "       <div style=\"position:absolute;height=1px;min-width:5px;top:120px;left:96px;border:1px solid black;\">\n",
      "       </div>\n",
      "       <div style=\"position:absolute;height=20px;text-align:right;vertical-align:middle;width:90px;top:70px;padding:0 2px\">\n",
      "        20\n",
      "       </div>\n",
      "       <div style=\"position:absolute;height=1px;min-width:5px;top:80px;left:96px;border:1px solid black;\">\n",
      "       </div>\n",
      "       <div style=\"position:absolute;height=20px;text-align:right;vertical-align:middle;width:90px;top:30px;padding:0 2px\">\n",
      "        25\n",
      "       </div>\n",
      "       <div style=\"position:absolute;height=1px;min-width:5px;top:40px;left:96px;border:1px solid black;\">\n",
      "       </div>\n",
      "       <div style=\"position:absolute;height=20px;text-align:right;vertical-align:middle;width:90px;top:-10px;padding:0 2px\">\n",
      "        30\n",
      "       </div>\n",
      "       <div style=\"position:absolute;height=1px;min-width:5px;top:0px;left:96px;border:1px solid black;\">\n",
      "       </div>\n",
      "      </div>\n",
      "      <div style=\"position:absolute;top:240px;left:100px;width:320px;\">\n",
      "       <div style=\"position:absolute;left:1px;top:10px;min-width:24px;max-width:24px;text-align:center;vertical-align:top;\">\n",
      "        <a href=\"#2010_to_2013\">\n",
      "         '10\n",
      "        </a>\n",
      "       </div>\n",
      "       <div style=\"position:absolute;left:13px;height:10px;width:1px;border-left:1px solid black;\">\n",
      "       </div>\n",
      "       <div style=\"position:absolute;left:27px;top:10px;min-width:24px;max-width:24px;text-align:center;vertical-align:top;\">\n",
      "        <a href=\"#2010_to_2013\">\n",
      "         '11\n",
      "        </a>\n",
      "       </div>\n",
      "       <div style=\"position:absolute;left:39px;height:10px;width:1px;border-left:1px solid black;\">\n",
      "       </div>\n",
      "       <div style=\"position:absolute;left:53px;top:10px;min-width:24px;max-width:24px;text-align:center;vertical-align:top;\">\n",
      "        <a href=\"#2010_to_2013\">\n",
      "         '12\n",
      "        </a>\n",
      "       </div>\n",
      "       <div style=\"position:absolute;left:65px;height:10px;width:1px;border-left:1px solid black;\">\n",
      "       </div>\n",
      "       <div style=\"position:absolute;left:79px;top:10px;min-width:24px;max-width:24px;text-align:center;vertical-align:top;\">\n",
      "        <a href=\"#2010_to_2013\">\n",
      "         '13\n",
      "        </a>\n",
      "       </div>\n",
      "       <div style=\"position:absolute;left:91px;height:10px;width:1px;border-left:1px solid black;\">\n",
      "       </div>\n",
      "       <div style=\"position:absolute;left:105px;top:10px;min-width:24px;max-width:24px;text-align:center;vertical-align:top;\">\n",
      "        <a href=\"#2014\">\n",
      "         '14\n",
      "        </a>\n",
      "       </div>\n",
      "       <div style=\"position:absolute;left:117px;height:10px;width:1px;border-left:1px solid black;\">\n",
      "       </div>\n",
      "       <div style=\"position:absolute;left:131px;top:10px;min-width:24px;max-width:24px;text-align:center;vertical-align:top;\">\n",
      "        <a href=\"#2015\">\n",
      "         '15\n",
      "        </a>\n",
      "       </div>\n",
      "       <div style=\"position:absolute;left:143px;height:10px;width:1px;border-left:1px solid black;\">\n",
      "       </div>\n",
      "       <div style=\"position:absolute;left:157px;top:10px;min-width:24px;max-width:24px;text-align:center;vertical-align:top;\">\n",
      "        <a href=\"#2016\">\n",
      "         '16\n",
      "        </a>\n",
      "       </div>\n",
      "       <div style=\"position:absolute;left:169px;height:10px;width:1px;border-left:1px solid black;\">\n",
      "       </div>\n",
      "       <div style=\"position:absolute;left:183px;top:10px;min-width:24px;max-width:24px;text-align:center;vertical-align:top;\">\n",
      "        <a href=\"#2017\">\n",
      "         '17\n",
      "        </a>\n",
      "       </div>\n",
      "       <div style=\"position:absolute;left:195px;height:10px;width:1px;border-left:1px solid black;\">\n",
      "       </div>\n",
      "       <div style=\"position:absolute;left:209px;top:10px;min-width:24px;max-width:24px;text-align:center;vertical-align:top;\">\n",
      "        <a href=\"#2018\">\n",
      "         '18\n",
      "        </a>\n",
      "       </div>\n",
      "       <div style=\"position:absolute;left:221px;height:10px;width:1px;border-left:1px solid black;\">\n",
      "       </div>\n",
      "       <div style=\"position:absolute;left:235px;top:10px;min-width:24px;max-width:24px;text-align:center;vertical-align:top;\">\n",
      "        <a href=\"#2019\">\n",
      "         '19\n",
      "        </a>\n",
      "       </div>\n",
      "       <div style=\"position:absolute;left:247px;height:10px;width:1px;border-left:1px solid black;\">\n",
      "       </div>\n",
      "       <div style=\"position:absolute;left:261px;top:10px;min-width:24px;max-width:24px;text-align:center;vertical-align:top;\">\n",
      "        <a href=\"#2020\">\n",
      "         '20\n",
      "        </a>\n",
      "       </div>\n",
      "       <div style=\"position:absolute;left:273px;height:10px;width:1px;border-left:1px solid black;\">\n",
      "       </div>\n",
      "       <div style=\"position:absolute;left:287px;top:10px;min-width:24px;max-width:24px;text-align:center;vertical-align:top;\">\n",
      "        <a href=\"#2021\">\n",
      "         '21\n",
      "        </a>\n",
      "       </div>\n",
      "       <div style=\"position:absolute;left:299px;height:10px;width:1px;border-left:1px solid black;\">\n",
      "       </div>\n",
      "      </div>\n",
      "     </div>\n",
      "     <div>\n",
      "      <ul style=\"list-style:none;column-width:12em;\">\n",
      "       <li>\n",
      "        <span style=\"padding:0 1em;background-color:LightSteelBlue;border:1px solid LightSteelBlue;margin-right:1em;-webkit-print-color-adjust:exact;\">\n",
      "        </span>\n",
      "        <a href=\"/wiki/Falcon_9_v1.0\" title=\"Falcon 9 v1.0\">\n",
      "         Falcon 9 v1.0\n",
      "        </a>\n",
      "       </li>\n",
      "       <li>\n",
      "        <span style=\"padding:0 1em;background-color:SteelBlue;border:1px solid SteelBlue;margin-right:1em;-webkit-print-color-adjust:exact;\">\n",
      "        </span>\n",
      "        <a href=\"/wiki/Falcon_9_v1.1\" title=\"Falcon 9 v1.1\">\n",
      "         Falcon 9 v1.1\n",
      "        </a>\n",
      "       </li>\n",
      "       <li>\n",
      "        <span style=\"padding:0 1em;background-color:MediumBlue;border:1px solid MediumBlue;margin-right:1em;-webkit-print-color-adjust:exact;\">\n",
      "        </span>\n",
      "        <a href=\"/wiki/Falcon_9_Full_Thrust\" title=\"Falcon 9 Full Thrust\">\n",
      "         Falcon 9 Full Thrust\n",
      "        </a>\n",
      "       </li>\n",
      "       <li>\n",
      "        <span style=\"padding:0 1em;background-color:CornflowerBlue;border:1px solid CornflowerBlue;margin-right:1em;-webkit-print-color-adjust:exact;\">\n",
      "        </span>\n",
      "        Falcon 9 FT (reused)\n",
      "       </li>\n",
      "       <li>\n",
      "        <span style=\"padding:0 1em;background-color:Teal;border:1px solid Teal;margin-right:1em;-webkit-print-color-adjust:exact;\">\n",
      "        </span>\n",
      "        <a href=\"/wiki/Falcon_9_Block_5\" title=\"Falcon 9 Block 5\">\n",
      "         Falcon 9 Block 5\n",
      "        </a>\n",
      "       </li>\n",
      "       <li>\n",
      "        <span style=\"padding:0 1em;background-color:LightSeaGreen;border:1px solid LightSeaGreen;margin-right:1em;-webkit-print-color-adjust:exact;\">\n",
      "        </span>\n",
      "        Falcon 9 B5 (reused)\n",
      "       </li>\n",
      "       <li>\n",
      "        <span style=\"padding:0 1em;background-color:Gold;border:1px solid Gold;margin-right:1em;-webkit-print-color-adjust:exact;\">\n",
      "        </span>\n",
      "        <a href=\"/wiki/Falcon_Heavy\" title=\"Falcon Heavy\">\n",
      "         Falcon Heavy\n",
      "        </a>\n",
      "       </li>\n",
      "      </ul>\n",
      "     </div>\n",
      "    </div>\n",
      "    <p>\n",
      "     <br/>\n",
      "    </p>\n",
      "   </td>\n",
      "   <td class=\"col-break\">\n",
      "    <div class=\"mw-heading mw-heading3\">\n",
      "     <h3 id=\"Launch_sites\">\n",
      "      Launch sites\n",
      "     </h3>\n",
      "    </div>\n",
      "    <div class=\"chart noresize\" style=\"padding-top:10px;margin-top:1em;max-width:420px;\">\n",
      "     <div style=\"position:relative;min-height:320px;min-width:420px;max-width:420px;\">\n",
      "      <div style=\"float:right;position:relative;min-height:240px;min-width:320px;max-width:320px;border-left:1px black solid;border-bottom:1px black solid;\">\n",
      "       <div style=\"position:absolute;left:3px;top:224px;height:15px;min-width:18px;max-width:18px;background-color:Goldenrod;-webkit-print-color-adjust:exact;border:1px solid Goldenrod;border-bottom:none;overflow:hidden;\" title=\"[[Cape Canaveral Space Force Station|CCSFS]], [[Cape Canaveral Space Launch Complex 40|SLC-40]]: 2\">\n",
      "       </div>\n",
      "       <div style=\"position:absolute;left:55px;top:224px;height:15px;min-width:18px;max-width:18px;background-color:Goldenrod;-webkit-print-color-adjust:exact;border:1px solid Goldenrod;border-bottom:none;overflow:hidden;\" title=\"[[Cape Canaveral Space Force Station|CCSFS]], [[Cape Canaveral Space Launch Complex 40|SLC-40]]: 2\">\n",
      "       </div>\n",
      "       <div style=\"position:absolute;left:81px;top:224px;height:15px;min-width:18px;max-width:18px;background-color:Goldenrod;-webkit-print-color-adjust:exact;border:1px solid Goldenrod;border-bottom:none;overflow:hidden;\" title=\"[[Cape Canaveral Space Force Station|CCSFS]], [[Cape Canaveral Space Launch Complex 40|SLC-40]]: 2\">\n",
      "       </div>\n",
      "       <div style=\"position:absolute;left:107px;top:192px;height:47px;min-width:18px;max-width:18px;background-color:Goldenrod;-webkit-print-color-adjust:exact;border:1px solid Goldenrod;border-bottom:none;overflow:hidden;\" title=\"[[Cape Canaveral Space Force Station|CCSFS]], [[Cape Canaveral Space Launch Complex 40|SLC-40]]: 6\">\n",
      "       </div>\n",
      "       <div style=\"position:absolute;left:133px;top:184px;height:55px;min-width:18px;max-width:18px;background-color:Goldenrod;-webkit-print-color-adjust:exact;border:1px solid Goldenrod;border-bottom:none;overflow:hidden;\" title=\"[[Cape Canaveral Space Force Station|CCSFS]], [[Cape Canaveral Space Launch Complex 40|SLC-40]]: 7\">\n",
      "       </div>\n",
      "       <div style=\"position:absolute;left:159px;top:184px;height:55px;min-width:18px;max-width:18px;background-color:Goldenrod;-webkit-print-color-adjust:exact;border:1px solid Goldenrod;border-bottom:none;overflow:hidden;\" title=\"[[Cape Canaveral Space Force Station|CCSFS]], [[Cape Canaveral Space Launch Complex 40|SLC-40]]: 7\">\n",
      "       </div>\n",
      "       <div style=\"position:absolute;left:185px;top:232px;height:7px;min-width:18px;max-width:18px;background-color:Goldenrod;-webkit-print-color-adjust:exact;border:1px solid Goldenrod;border-bottom:none;overflow:hidden;\" title=\"[[Cape Canaveral Space Force Station|CCSFS]], [[Cape Canaveral Space Launch Complex 40|SLC-40]]: 1\">\n",
      "       </div>\n",
      "       <div style=\"position:absolute;left:211px;top:144px;height:95px;min-width:18px;max-width:18px;background-color:Goldenrod;-webkit-print-color-adjust:exact;border:1px solid Goldenrod;border-bottom:none;overflow:hidden;\" title=\"[[Cape Canaveral Space Force Station|CCSFS]], [[Cape Canaveral Space Launch Complex 40|SLC-40]]: 12\">\n",
      "       </div>\n",
      "       <div style=\"position:absolute;left:237px;top:176px;height:63px;min-width:18px;max-width:18px;background-color:Goldenrod;-webkit-print-color-adjust:exact;border:1px solid Goldenrod;border-bottom:none;overflow:hidden;\" title=\"[[Cape Canaveral Space Force Station|CCSFS]], [[Cape Canaveral Space Launch Complex 40|SLC-40]]: 8\">\n",
      "       </div>\n",
      "       <div style=\"position:absolute;left:263px;top:128px;height:111px;min-width:18px;max-width:18px;background-color:Goldenrod;-webkit-print-color-adjust:exact;border:1px solid Goldenrod;border-bottom:none;overflow:hidden;\" title=\"[[Cape Canaveral Space Force Station|CCSFS]], [[Cape Canaveral Space Launch Complex 40|SLC-40]]: 14\">\n",
      "       </div>\n",
      "       <div style=\"position:absolute;left:289px;top:152px;height:87px;min-width:18px;max-width:18px;background-color:Goldenrod;-webkit-print-color-adjust:exact;border:1px solid Goldenrod;border-bottom:none;overflow:hidden;\" title=\"[[Cape Canaveral Space Force Station|CCSFS]], [[Cape Canaveral Space Launch Complex 40|SLC-40]]: 11\">\n",
      "       </div>\n",
      "       <div style=\"position:absolute;left:185px;top:136px;height:95px;min-width:18px;max-width:18px;background-color:Chocolate;-webkit-print-color-adjust:exact;border:1px solid Chocolate;border-bottom:none;overflow:hidden;\" title=\"[[Kennedy Space Center|KSC]], [[Kennedy Space Center Launch Complex 39A|LC-39A]]: 12\">\n",
      "       </div>\n",
      "       <div style=\"position:absolute;left:211px;top:120px;height:23px;min-width:18px;max-width:18px;background-color:Chocolate;-webkit-print-color-adjust:exact;border:1px solid Chocolate;border-bottom:none;overflow:hidden;\" title=\"[[Kennedy Space Center|KSC]], [[Kennedy Space Center Launch Complex 39A|LC-39A]]: 3\">\n",
      "       </div>\n",
      "       <div style=\"position:absolute;left:237px;top:152px;height:23px;min-width:18px;max-width:18px;background-color:Chocolate;-webkit-print-color-adjust:exact;border:1px solid Chocolate;border-bottom:none;overflow:hidden;\" title=\"[[Kennedy Space Center|KSC]], [[Kennedy Space Center Launch Complex 39A|LC-39A]]: 3\">\n",
      "       </div>\n",
      "       <div style=\"position:absolute;left:263px;top:40px;height:87px;min-width:18px;max-width:18px;background-color:Chocolate;-webkit-print-color-adjust:exact;border:1px solid Chocolate;border-bottom:none;overflow:hidden;\" title=\"[[Kennedy Space Center|KSC]], [[Kennedy Space Center Launch Complex 39A|LC-39A]]: 11\">\n",
      "       </div>\n",
      "       <div style=\"position:absolute;left:289px;top:96px;height:55px;min-width:18px;max-width:18px;background-color:Chocolate;-webkit-print-color-adjust:exact;border:1px solid Chocolate;border-bottom:none;overflow:hidden;\" title=\"[[Kennedy Space Center|KSC]], [[Kennedy Space Center Launch Complex 39A|LC-39A]]: 7\">\n",
      "       </div>\n",
      "       <div style=\"position:absolute;left:81px;top:216px;height:7px;min-width:18px;max-width:18px;background-color:MediumPurple;-webkit-print-color-adjust:exact;border:1px solid MediumPurple;border-bottom:none;overflow:hidden;\" title=\"[[Vandenberg Air Force Base|VAFB]], [[Vandenberg Space Launch Complex 4|SLC-4E]]: 1\">\n",
      "       </div>\n",
      "       <div style=\"position:absolute;left:159px;top:176px;height:7px;min-width:18px;max-width:18px;background-color:MediumPurple;-webkit-print-color-adjust:exact;border:1px solid MediumPurple;border-bottom:none;overflow:hidden;\" title=\"[[Vandenberg Air Force Base|VAFB]], [[Vandenberg Space Launch Complex 4|SLC-4E]]: 1\">\n",
      "       </div>\n",
      "       <div style=\"position:absolute;left:185px;top:96px;height:39px;min-width:18px;max-width:18px;background-color:MediumPurple;-webkit-print-color-adjust:exact;border:1px solid MediumPurple;border-bottom:none;overflow:hidden;\" title=\"[[Vandenberg Air Force Base|VAFB]], [[Vandenberg Space Launch Complex 4|SLC-4E]]: 5\">\n",
      "       </div>\n",
      "       <div style=\"position:absolute;left:211px;top:72px;height:47px;min-width:18px;max-width:18px;background-color:MediumPurple;-webkit-print-color-adjust:exact;border:1px solid MediumPurple;border-bottom:none;overflow:hidden;\" title=\"[[Vandenberg Air Force Base|VAFB]], [[Vandenberg Space Launch Complex 4|SLC-4E]]: 6\">\n",
      "       </div>\n",
      "       <div style=\"position:absolute;left:237px;top:136px;height:15px;min-width:18px;max-width:18px;background-color:MediumPurple;-webkit-print-color-adjust:exact;border:1px solid MediumPurple;border-bottom:none;overflow:hidden;\" title=\"[[Vandenberg Air Force Base|VAFB]], [[Vandenberg Space Launch Complex 4|SLC-4E]]: 2\">\n",
      "       </div>\n",
      "       <div style=\"position:absolute;left:263px;top:32px;height:7px;min-width:18px;max-width:18px;background-color:MediumPurple;-webkit-print-color-adjust:exact;border:1px solid MediumPurple;border-bottom:none;overflow:hidden;\" title=\"[[Vandenberg Air Force Base|VAFB]], [[Vandenberg Space Launch Complex 4|SLC-4E]]: 1\">\n",
      "       </div>\n",
      "      </div>\n",
      "      <div style=\"position:absolute;height:240px;min-width:100px;max-width:100px;\">\n",
      "       <div style=\"position:absolute;height=20px;text-align:right;vertical-align:middle;width:90px;top:190px;padding:0 2px\">\n",
      "        5\n",
      "       </div>\n",
      "       <div style=\"position:absolute;height=1px;min-width:5px;top:200px;left:96px;border:1px solid black;\">\n",
      "       </div>\n",
      "       <div style=\"position:absolute;height=20px;text-align:right;vertical-align:middle;width:90px;top:150px;padding:0 2px\">\n",
      "        10\n",
      "       </div>\n",
      "       <div style=\"position:absolute;height=1px;min-width:5px;top:160px;left:96px;border:1px solid black;\">\n",
      "       </div>\n",
      "       <div style=\"position:absolute;height=20px;text-align:right;vertical-align:middle;width:90px;top:110px;padding:0 2px\">\n",
      "        15\n",
      "       </div>\n",
      "       <div style=\"position:absolute;height=1px;min-width:5px;top:120px;left:96px;border:1px solid black;\">\n",
      "       </div>\n",
      "       <div style=\"position:absolute;height=20px;text-align:right;vertical-align:middle;width:90px;top:70px;padding:0 2px\">\n",
      "        20\n",
      "       </div>\n",
      "       <div style=\"position:absolute;height=1px;min-width:5px;top:80px;left:96px;border:1px solid black;\">\n",
      "       </div>\n",
      "       <div style=\"position:absolute;height=20px;text-align:right;vertical-align:middle;width:90px;top:30px;padding:0 2px\">\n",
      "        25\n",
      "       </div>\n",
      "       <div style=\"position:absolute;height=1px;min-width:5px;top:40px;left:96px;border:1px solid black;\">\n",
      "       </div>\n",
      "       <div style=\"position:absolute;height=20px;text-align:right;vertical-align:middle;width:90px;top:-10px;padding:0 2px\">\n",
      "        30\n",
      "       </div>\n",
      "       <div style=\"position:absolute;height=1px;min-width:5px;top:0px;left:96px;border:1px solid black;\">\n",
      "       </div>\n",
      "      </div>\n",
      "      <div style=\"position:absolute;top:240px;left:100px;width:320px;\">\n",
      "       <div style=\"position:absolute;left:1px;top:10px;min-width:24px;max-width:24px;text-align:center;vertical-align:top;\">\n",
      "        '10\n",
      "       </div>\n",
      "       <div style=\"position:absolute;left:13px;height:10px;width:1px;border-left:1px solid black;\">\n",
      "       </div>\n",
      "       <div style=\"position:absolute;left:27px;top:10px;min-width:24px;max-width:24px;text-align:center;vertical-align:top;\">\n",
      "        '11\n",
      "       </div>\n",
      "       <div style=\"position:absolute;left:39px;height:10px;width:1px;border-left:1px solid black;\">\n",
      "       </div>\n",
      "       <div style=\"position:absolute;left:53px;top:10px;min-width:24px;max-width:24px;text-align:center;vertical-align:top;\">\n",
      "        '12\n",
      "       </div>\n",
      "       <div style=\"position:absolute;left:65px;height:10px;width:1px;border-left:1px solid black;\">\n",
      "       </div>\n",
      "       <div style=\"position:absolute;left:79px;top:10px;min-width:24px;max-width:24px;text-align:center;vertical-align:top;\">\n",
      "        '13\n",
      "       </div>\n",
      "       <div style=\"position:absolute;left:91px;height:10px;width:1px;border-left:1px solid black;\">\n",
      "       </div>\n",
      "       <div style=\"position:absolute;left:105px;top:10px;min-width:24px;max-width:24px;text-align:center;vertical-align:top;\">\n",
      "        '14\n",
      "       </div>\n",
      "       <div style=\"position:absolute;left:117px;height:10px;width:1px;border-left:1px solid black;\">\n",
      "       </div>\n",
      "       <div style=\"position:absolute;left:131px;top:10px;min-width:24px;max-width:24px;text-align:center;vertical-align:top;\">\n",
      "        '15\n",
      "       </div>\n",
      "       <div style=\"position:absolute;left:143px;height:10px;width:1px;border-left:1px solid black;\">\n",
      "       </div>\n",
      "       <div style=\"position:absolute;left:157px;top:10px;min-width:24px;max-width:24px;text-align:center;vertical-align:top;\">\n",
      "        '16\n",
      "       </div>\n",
      "       <div style=\"position:absolute;left:169px;height:10px;width:1px;border-left:1px solid black;\">\n",
      "       </div>\n",
      "       <div style=\"position:absolute;left:183px;top:10px;min-width:24px;max-width:24px;text-align:center;vertical-align:top;\">\n",
      "        '17\n",
      "       </div>\n",
      "       <div style=\"position:absolute;left:195px;height:10px;width:1px;border-left:1px solid black;\">\n",
      "       </div>\n",
      "       <div style=\"position:absolute;left:209px;top:10px;min-width:24px;max-width:24px;text-align:center;vertical-align:top;\">\n",
      "        '18\n",
      "       </div>\n",
      "       <div style=\"position:absolute;left:221px;height:10px;width:1px;border-left:1px solid black;\">\n",
      "       </div>\n",
      "       <div style=\"position:absolute;left:235px;top:10px;min-width:24px;max-width:24px;text-align:center;vertical-align:top;\">\n",
      "        '19\n",
      "       </div>\n",
      "       <div style=\"position:absolute;left:247px;height:10px;width:1px;border-left:1px solid black;\">\n",
      "       </div>\n",
      "       <div style=\"position:absolute;left:261px;top:10px;min-width:24px;max-width:24px;text-align:center;vertical-align:top;\">\n",
      "        '20\n",
      "       </div>\n",
      "       <div style=\"position:absolute;left:273px;height:10px;width:1px;border-left:1px solid black;\">\n",
      "       </div>\n",
      "       <div style=\"position:absolute;left:287px;top:10px;min-width:24px;max-width:24px;text-align:center;vertical-align:top;\">\n",
      "        '21\n",
      "       </div>\n",
      "       <div style=\"position:absolute;left:299px;height:10px;width:1px;border-left:1px solid black;\">\n",
      "       </div>\n",
      "      </div>\n",
      "     </div>\n",
      "     <div>\n",
      "      <ul style=\"list-style:none;column-width:12em;\">\n",
      "       <li>\n",
      "        <span style=\"padding:0 1em;background-color:Goldenrod;border:1px solid Goldenrod;margin-right:1em;-webkit-print-color-adjust:exact;\">\n",
      "        </span>\n",
      "        <a href=\"/wiki/Cape_Canaveral_Space_Force_Station\" title=\"Cape Canaveral Space Force Station\">\n",
      "         CCSFS\n",
      "        </a>\n",
      "        ,\n",
      "        <a href=\"/wiki/Cape_Canaveral_Space_Launch_Complex_40\" title=\"Cape Canaveral Space Launch Complex 40\">\n",
      "         SLC-40\n",
      "        </a>\n",
      "       </li>\n",
      "       <li>\n",
      "        <span style=\"padding:0 1em;background-color:Chocolate;border:1px solid Chocolate;margin-right:1em;-webkit-print-color-adjust:exact;\">\n",
      "        </span>\n",
      "        <a href=\"/wiki/Kennedy_Space_Center\" title=\"Kennedy Space Center\">\n",
      "         KSC\n",
      "        </a>\n",
      "        ,\n",
      "        <a href=\"/wiki/Kennedy_Space_Center_Launch_Complex_39A\" title=\"Kennedy Space Center Launch Complex 39A\">\n",
      "         LC-39A\n",
      "        </a>\n",
      "       </li>\n",
      "       <li>\n",
      "        <span style=\"padding:0 1em;background-color:MediumPurple;border:1px solid MediumPurple;margin-right:1em;-webkit-print-color-adjust:exact;\">\n",
      "        </span>\n",
      "        <a class=\"mw-redirect\" href=\"/wiki/Vandenberg_Air_Force_Base\" title=\"Vandenberg Air Force Base\">\n",
      "         VAFB\n",
      "        </a>\n",
      "        ,\n",
      "        <a href=\"/wiki/Vandenberg_Space_Launch_Complex_4\" title=\"Vandenberg Space Launch Complex 4\">\n",
      "         SLC-4E\n",
      "        </a>\n",
      "       </li>\n",
      "      </ul>\n",
      "     </div>\n",
      "    </div>\n",
      "    <p>\n",
      "    </p>\n",
      "   </td>\n",
      "  </tr>\n",
      " </tbody>\n",
      "</table>\n"
     ]
    }
   ],
   "source": [
    "# Use the find_all function in the BeautifulSoup object, with element type `table`\n",
    "# Assign the result to a list called `html_tables`\n",
    "# Find all the table elements in the HTML\n",
    "html_tables = soup.find_all('table')\n",
    "\n",
    "# Print the number of tables found (just to confirm)\n",
    "print(f\"Number of tables found: {len(html_tables)}\")\n",
    "\n",
    "# Optionally, print the first table's HTML to check its structure\n",
    "print(html_tables[0].prettify())"
   ]
  },
  {
   "cell_type": "markdown",
   "metadata": {},
   "source": [
    "Starting from the third table is our target table contains the actual launch records.\n"
   ]
  },
  {
   "cell_type": "code",
   "execution_count": null,
   "metadata": {},
   "outputs": [],
   "source": [
    "# Let's print the third table and check its content\n",
    "first_launch_table = html_tables[2]\n",
    "print(first_launch_table)"
   ]
  },
  {
   "cell_type": "markdown",
   "metadata": {},
   "source": [
    "You should able to see the columns names embedded in the table header elements `<th>` as follows:\n"
   ]
  },
  {
   "cell_type": "markdown",
   "metadata": {},
   "source": [
    "```\n",
    "<tr>\n",
    "<th scope=\"col\">Flight No.\n",
    "</th>\n",
    "<th scope=\"col\">Date and<br/>time (<a href=\"/wiki/Coordinated_Universal_Time\" title=\"Coordinated Universal Time\">UTC</a>)\n",
    "</th>\n",
    "<th scope=\"col\"><a href=\"/wiki/List_of_Falcon_9_first-stage_boosters\" title=\"List of Falcon 9 first-stage boosters\">Version,<br/>Booster</a> <sup class=\"reference\" id=\"cite_ref-booster_11-0\"><a href=\"#cite_note-booster-11\">[b]</a></sup>\n",
    "</th>\n",
    "<th scope=\"col\">Launch site\n",
    "</th>\n",
    "<th scope=\"col\">Payload<sup class=\"reference\" id=\"cite_ref-Dragon_12-0\"><a href=\"#cite_note-Dragon-12\">[c]</a></sup>\n",
    "</th>\n",
    "<th scope=\"col\">Payload mass\n",
    "</th>\n",
    "<th scope=\"col\">Orbit\n",
    "</th>\n",
    "<th scope=\"col\">Customer\n",
    "</th>\n",
    "<th scope=\"col\">Launch<br/>outcome\n",
    "</th>\n",
    "<th scope=\"col\"><a href=\"/wiki/Falcon_9_first-stage_landing_tests\" title=\"Falcon 9 first-stage landing tests\">Booster<br/>landing</a>\n",
    "</th></tr>\n",
    "```\n"
   ]
  },
  {
   "cell_type": "markdown",
   "metadata": {},
   "source": [
    "Next, we just need to iterate through the `<th>` elements and apply the provided `extract_column_from_header()` to extract column name one by one\n"
   ]
  },
  {
   "cell_type": "code",
   "execution_count": 9,
   "metadata": {
    "tags": []
   },
   "outputs": [
    {
     "name": "stdout",
     "output_type": "stream",
     "text": [
      "[]\n"
     ]
    }
   ],
   "source": [
    "\n",
    "# Apply find_all() function with `th` element on first_launch_table\n",
    "# Iterate each th element and apply the provided extract_column_from_header() to get a column name\n",
    "# Append the Non-empty column name (`if name is not None and len(name) > 0`) into a list called column_names\n",
    "# Initialize an empty list to store the column names\n",
    "column_names = []\n",
    "\n",
    "# Assuming extract_column_from_header() is provided to clean up column names\n",
    "def extract_column_from_header(th_element):\n",
    "    # Example placeholder for cleaning or formatting column names\n",
    "    return th_element.text.strip()  # Adjust according to actual function definition\n",
    "\n",
    "# Apply find_all() to extract all <th> elements in the first table\n",
    "header_cells = html_tables[0].find_all('th')\n",
    "\n",
    "# Iterate over each <th> element and extract column names\n",
    "for th in header_cells:\n",
    "    column_name = extract_column_from_header(th)\n",
    "    \n",
    "    # Append non-empty column names\n",
    "    if column_name and len(column_name) > 0:\n",
    "        column_names.append(column_name)\n",
    "\n",
    "# Print the extracted column names\n",
    "print(column_names)\n"
   ]
  },
  {
   "cell_type": "markdown",
   "metadata": {},
   "source": [
    "Check the extracted column names\n"
   ]
  },
  {
   "cell_type": "code",
   "execution_count": 10,
   "metadata": {
    "tags": []
   },
   "outputs": [
    {
     "name": "stdout",
     "output_type": "stream",
     "text": [
      "[]\n"
     ]
    }
   ],
   "source": [
    "print(column_names)"
   ]
  },
  {
   "cell_type": "markdown",
   "metadata": {},
   "source": [
    "## TASK 3: Create a data frame by parsing the launch HTML tables\n"
   ]
  },
  {
   "cell_type": "markdown",
   "metadata": {},
   "source": [
    "We will create an empty dictionary with keys from the extracted column names in the previous task. Later, this dictionary will be converted into a Pandas dataframe\n"
   ]
  },
  {
   "cell_type": "code",
   "execution_count": 12,
   "metadata": {
    "tags": []
   },
   "outputs": [
    {
     "name": "stdout",
     "output_type": "stream",
     "text": [
      "{'Flight No.': [], 'Launch site': [], 'Payload': [], 'Payload mass': [], 'Orbit': [], 'Customer': [], 'Launch outcome': [], 'Version Booster': [], 'Booster landing': [], 'Date': [], 'Time': []}\n"
     ]
    }
   ],
   "source": [
    "# Create the initial dictionary from the column names\n",
    "launch_dict = dict.fromkeys(column_names)\n",
    "\n",
    "# Remove the irrelevant column from the dictionary\n",
    "if 'Date and time ( )' in launch_dict:\n",
    "    del launch_dict['Date and time ( )']\n",
    "\n",
    "# Initialize the dictionary with empty lists for specific columns\n",
    "launch_dict['Flight No.'] = []\n",
    "launch_dict['Launch site'] = []\n",
    "launch_dict['Payload'] = []\n",
    "launch_dict['Payload mass'] = []\n",
    "launch_dict['Orbit'] = []\n",
    "launch_dict['Customer'] = []\n",
    "launch_dict['Launch outcome'] = []\n",
    "\n",
    "# Add some new columns\n",
    "launch_dict['Version Booster'] = []\n",
    "launch_dict['Booster landing'] = []\n",
    "launch_dict['Date'] = []\n",
    "launch_dict['Time'] = []\n",
    "\n",
    "# Print the dictionary to confirm its structure\n",
    "print(launch_dict)\n"
   ]
  },
  {
   "cell_type": "markdown",
   "metadata": {},
   "source": [
    "Next, we just need to fill up the `launch_dict` with launch records extracted from table rows.\n"
   ]
  },
  {
   "cell_type": "markdown",
   "metadata": {},
   "source": [
    "Usually, HTML tables in Wiki pages are likely to contain unexpected annotations and other types of noises, such as reference links `B0004.1[8]`, missing values `N/A [e]`, inconsistent formatting, etc.\n"
   ]
  },
  {
   "cell_type": "markdown",
   "metadata": {},
   "source": [
    "To simplify the parsing process, we have provided an incomplete code snippet below to help you to fill up the `launch_dict`. Please complete the following code snippet with TODOs or you can choose to write your own logic to parse all launch tables:\n"
   ]
  },
  {
   "cell_type": "code",
   "execution_count": 14,
   "metadata": {
    "tags": []
   },
   "outputs": [
    {
     "name": "stdout",
     "output_type": "stream",
     "text": [
      "  Flight No. Launch site                               Payload Payload mass  \\\n",
      "0          1       CCAFS  Dragon Spacecraft Qualification Unit            0   \n",
      "1          2       CCAFS                                Dragon            0   \n",
      "2          3       CCAFS                                Dragon       525 kg   \n",
      "3          4       CCAFS                          SpaceX CRS-1     4,700 kg   \n",
      "4          5       CCAFS                          SpaceX CRS-2     4,877 kg   \n",
      "\n",
      "  Orbit Customer Launch outcome   Version Booster Booster landing  \\\n",
      "0   LEO   SpaceX      Success\\n  F9 v1.07B0003.18         Failure   \n",
      "1   LEO     NASA        Success  F9 v1.07B0004.18         Failure   \n",
      "2   LEO     NASA        Success  F9 v1.07B0005.18    No attempt\\n   \n",
      "3   LEO     NASA      Success\\n  F9 v1.07B0006.18      No attempt   \n",
      "4   LEO     NASA      Success\\n  F9 v1.07B0007.18    No attempt\\n   \n",
      "\n",
      "              Date   Time  \n",
      "0      4 June 2010  18:45  \n",
      "1  8 December 2010  15:43  \n",
      "2      22 May 2012  07:44  \n",
      "3   8 October 2012  00:35  \n",
      "4     1 March 2013  15:10  \n"
     ]
    }
   ],
   "source": [
    "# Initialize the counter for extracted rows\n",
    "extracted_row = 0\n",
    "\n",
    "# Extract each table\n",
    "for table_number, table in enumerate(soup.find_all('table', \"wikitable plainrowheaders collapsible\")):\n",
    "    # Loop through each row of the table\n",
    "    for rows in table.find_all(\"tr\"):\n",
    "        # Check if the first table heading is a number corresponding to the flight number\n",
    "        if rows.th:\n",
    "            if rows.th.string:\n",
    "                flight_number = rows.th.string.strip()\n",
    "                flag = flight_number.isdigit()\n",
    "        else:\n",
    "            flag = False\n",
    "        \n",
    "        # Extract table data elements\n",
    "        row = rows.find_all('td')\n",
    "        \n",
    "        # If the row contains a flight number, process it\n",
    "        if flag:\n",
    "            extracted_row += 1\n",
    "\n",
    "            # Flight Number value\n",
    "            launch_dict['Flight No.'].append(flight_number)\n",
    "\n",
    "            # Extract Date and Time using the provided date_time function\n",
    "            datatimelist = date_time(row[0])\n",
    "            date = datatimelist[0].strip(',')  # Clean up the date\n",
    "            launch_dict['Date'].append(date)\n",
    "\n",
    "            # Time value\n",
    "            time = datatimelist[1]\n",
    "            launch_dict['Time'].append(time)\n",
    "\n",
    "            # Booster version\n",
    "            bv = booster_version(row[1])\n",
    "            if not bv:\n",
    "                bv = row[1].a.string if row[1].a else \"Unknown\"\n",
    "            launch_dict['Version Booster'].append(bv)\n",
    "\n",
    "            # Launch Site\n",
    "            launch_site = row[2].a.string if row[2].a else \"Unknown\"\n",
    "            launch_dict['Launch site'].append(launch_site)\n",
    "\n",
    "            # Payload\n",
    "            payload = row[3].a.string if row[3].a else \"Unknown\"\n",
    "            launch_dict['Payload'].append(payload)\n",
    "\n",
    "            # Payload Mass\n",
    "            payload_mass = get_mass(row[4]) if row[4].text.strip() != \"N/A\" else None\n",
    "            launch_dict['Payload mass'].append(payload_mass)\n",
    "\n",
    "            # Orbit\n",
    "            orbit = row[5].a.string if row[5].a else \"Unknown\"\n",
    "            launch_dict['Orbit'].append(orbit)\n",
    "\n",
    "            # Customer\n",
    "            customer = row[6].a.string if row[6].a else \"Unknown\"\n",
    "            launch_dict['Customer'].append(customer)\n",
    "\n",
    "            # Launch outcome\n",
    "            launch_outcome = list(row[7].strings)[0] if row[7].strings else \"Unknown\"\n",
    "            launch_dict['Launch outcome'].append(launch_outcome)\n",
    "\n",
    "            # Booster landing\n",
    "            booster_landing = landing_status(row[8])\n",
    "            launch_dict['Booster landing'].append(booster_landing)\n",
    "\n",
    "# After processing, you can convert the dictionary to a DataFrame\n",
    "import pandas as pd\n",
    "\n",
    "# Convert launch_dict to a DataFrame\n",
    "launch_df = pd.DataFrame(launch_dict)\n",
    "\n",
    "# Display the first few rows of the DataFrame\n",
    "print(launch_df.head())\n"
   ]
  },
  {
   "cell_type": "markdown",
   "metadata": {},
   "source": [
    "After you have fill in the parsed launch record values into `launch_dict`, you can create a dataframe from it.\n"
   ]
  },
  {
   "cell_type": "code",
   "execution_count": 15,
   "metadata": {
    "tags": []
   },
   "outputs": [
    {
     "name": "stdout",
     "output_type": "stream",
     "text": [
      "  Flight No. Launch site                               Payload Payload mass  \\\n",
      "0          1       CCAFS  Dragon Spacecraft Qualification Unit            0   \n",
      "1          2       CCAFS                                Dragon            0   \n",
      "2          3       CCAFS                                Dragon       525 kg   \n",
      "3          4       CCAFS                          SpaceX CRS-1     4,700 kg   \n",
      "4          5       CCAFS                          SpaceX CRS-2     4,877 kg   \n",
      "\n",
      "  Orbit Customer Launch outcome   Version Booster Booster landing  \\\n",
      "0   LEO   SpaceX      Success\\n  F9 v1.07B0003.18         Failure   \n",
      "1   LEO     NASA        Success  F9 v1.07B0004.18         Failure   \n",
      "2   LEO     NASA        Success  F9 v1.07B0005.18    No attempt\\n   \n",
      "3   LEO     NASA      Success\\n  F9 v1.07B0006.18      No attempt   \n",
      "4   LEO     NASA      Success\\n  F9 v1.07B0007.18    No attempt\\n   \n",
      "\n",
      "              Date   Time  \n",
      "0      4 June 2010  18:45  \n",
      "1  8 December 2010  15:43  \n",
      "2      22 May 2012  07:44  \n",
      "3   8 October 2012  00:35  \n",
      "4     1 March 2013  15:10  \n"
     ]
    }
   ],
   "source": [
    "import pandas as pd\n",
    "\n",
    "# Create a DataFrame from launch_dict\n",
    "df = pd.DataFrame({key: pd.Series(value) for key, value in launch_dict.items()})\n",
    "\n",
    "# Export the DataFrame to a CSV file\n",
    "df.to_csv('spacex_web_scraped.csv', index=False)\n",
    "\n",
    "# Optional: Print the first few rows to verify the DataFrame\n",
    "print(df.head())"
   ]
  },
  {
   "cell_type": "markdown",
   "metadata": {},
   "source": [
    "We can now export it to a <b>CSV</b> for the next section, but to make the answers consistent and in case you have difficulties finishing this lab. \n",
    "\n",
    "Following labs will be using a provided dataset to make each lab independent. \n"
   ]
  },
  {
   "cell_type": "markdown",
   "metadata": {},
   "source": [
    "<code>df.to_csv('spacex_web_scraped.csv', index=False)</code>\n"
   ]
  },
  {
   "cell_type": "markdown",
   "metadata": {},
   "source": [
    "## Authors\n"
   ]
  },
  {
   "cell_type": "markdown",
   "metadata": {},
   "source": [
    "<a href=\"https://www.linkedin.com/in/yan-luo-96288783/\">Yan Luo</a>\n"
   ]
  },
  {
   "cell_type": "markdown",
   "metadata": {},
   "source": [
    "<a href=\"https://www.linkedin.com/in/nayefaboutayoun/\">Nayef Abou Tayoun</a>\n"
   ]
  },
  {
   "cell_type": "markdown",
   "metadata": {},
   "source": [
    "<!--\n",
    "## Change Log\n",
    "-->\n"
   ]
  },
  {
   "cell_type": "markdown",
   "metadata": {},
   "source": [
    "<!--\n",
    "| Date (YYYY-MM-DD) | Version | Changed By | Change Description      |\n",
    "| ----------------- | ------- | ---------- | ----------------------- |\n",
    "| 2021-06-09        | 1.0     | Yan Luo    | Tasks updates           |\n",
    "| 2020-11-10        | 1.0     | Nayef      | Created the initial version |\n",
    "-->\n"
   ]
  },
  {
   "cell_type": "code",
   "execution_count": null,
   "metadata": {},
   "outputs": [],
   "source": []
  }
 ],
 "metadata": {
  "kernelspec": {
   "display_name": "Python",
   "language": "python",
   "name": "conda-env-python-py"
  },
  "language_info": {
   "codemirror_mode": {
    "name": "ipython",
    "version": 3
   },
   "file_extension": ".py",
   "mimetype": "text/x-python",
   "name": "python",
   "nbconvert_exporter": "python",
   "pygments_lexer": "ipython3",
   "version": "3.7.12"
  },
  "prev_pub_hash": "64f1b0aac408997185c47caba18730e0028b75e7934a0e5bf0ae73c5cb7ba677"
 },
 "nbformat": 4,
 "nbformat_minor": 4
}
